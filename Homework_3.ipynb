{
 "cells": [
  {
   "cell_type": "code",
   "execution_count": null,
   "metadata": {
    "id": "e-OsOqCoYK88"
   },
   "outputs": [],
   "source": [
    "# importing some basic libraries\n",
    "import numpy as np\n",
    "import pandas as pd\n",
    "\n",
    "# for visualization\n",
    "%matplotlib inline\n",
    "import matplotlib.pyplot as plt\n",
    "from mpl_toolkits.mplot3d import axes3d"
   ]
  },
  {
   "cell_type": "code",
   "execution_count": null,
   "metadata": {
    "id": "wal8U03bbtL6"
   },
   "outputs": [],
   "source": [
    "file_name = '.\\iris_dataset.csv'\n",
    "iris = file_name\n",
    "def data_preprocessing(iris):\n",
    "    data = pd.read_table(iris, sep = ',')\n",
    "    data = data.to_numpy()\n",
    "    np.random.shuffle(data)\n",
    "    train_data, test_data = data[:-(len(data)//5),:], data[-(len(data)//5):,:]\n",
    "    return train_data, test_data"
   ]
  },
  {
   "cell_type": "code",
   "execution_count": null,
   "metadata": {},
   "outputs": [],
   "source": [
    "def svm_fitting(data):\n",
    "    x = data[:,:-1]\n",
    "    y = data[:, -1]\n",
    "    lr = 0.1\n",
    "    epoch = 10000\n",
    "    \n",
    "    y1 = np.zeros(len(y))\n",
    "    for i in range(len(y)):\n",
    "        if y[i]=='setosa':\n",
    "            y1[i] = 1\n",
    "        elif y[i]=='versicolor':\n",
    "            y1[i] = -1\n",
    "    w1 = np.zeros(len(x[0]))\n",
    "    for e in range(epoch):\n",
    "        for i, val in enumerate(x):\n",
    "            z = np.dot(x[i], w1)\n",
    "            if(y1[i]*z < 1):\n",
    "                w1 = w1 + lr*((y1[i]*x[i])-(2*(1/epoch)*w1))\n",
    "            else:\n",
    "                w1 = w1 + lr*(-2*(1/epoch)*w1)\n",
    "                \n",
    "    y2 = np.zeros(len(y))\n",
    "    for i in range(len(y)):\n",
    "        if y[i]=='versicolor':\n",
    "            y2[i] = 1\n",
    "        elif y[i]=='virginica':\n",
    "            y2[i] = -1\n",
    "    w2 = np.zeros(len(x[0]))\n",
    "    for e in range(epoch):\n",
    "        for i, val in enumerate(x):\n",
    "            z = np.dot(x[i], w2)\n",
    "            if(y2[i]*z < 1):\n",
    "                w2 = w2 + lr*((y2[i]*x[i])-(2*(1/epoch)*w2))\n",
    "            else:\n",
    "                w2 = w2 + lr*(-2*(1/epoch)*w2)\n",
    "    \n",
    "    y3 = np.zeros(len(y))\n",
    "    for i in range(len(y)):\n",
    "        if y[i]=='virginica':\n",
    "            y3[i] = 1\n",
    "        elif y[i]=='setosa':\n",
    "            y3[i] = -1\n",
    "    w3 = np.zeros(len(x[0]))\n",
    "    for e in range(epoch):\n",
    "        for i, val in enumerate(x):\n",
    "            z = np.dot(x[i], w3)\n",
    "            if(y3[i]*z < 1):\n",
    "                w3 = w3 + lr*((y3[i]*x[i])-(2*(1/epoch)*w3))\n",
    "            else:\n",
    "                w3 = w3 + lr*(-2*(1/epoch)*w3)\n",
    "    \n",
    "    return [w1, w2, w3]"
   ]
  },
  {
   "cell_type": "code",
   "execution_count": null,
   "metadata": {},
   "outputs": [],
   "source": [
    "def svm_prediction(w, test_data):\n",
    "    x = test_data[:,:-1]\n",
    "    y = test_data[:, -1]\n",
    "    pred = []\n",
    "    for i, val in enumerate(x):\n",
    "        z1 = np.dot(x[i], w[0])\n",
    "        z2 = np.dot(x[i], w[1])\n",
    "        z3 = np.dot(x[i], w[2])\n",
    "        if(z1 > 1 and z3 < 1):\n",
    "            pred.append('setosa')\n",
    "        elif(z1 < 1 and z2 > 1):\n",
    "            pred.append('versicolor')\n",
    "        else:\n",
    "            pred.append('virginica')\n",
    "    match = 0\n",
    "    for i in range(len(y)):\n",
    "        if y[i]==pred[i]:\n",
    "            match = match+1\n",
    "    print(match*100/len(y))\n",
    "    return pred"
   ]
  },
  {
   "cell_type": "code",
   "execution_count": null,
   "metadata": {},
   "outputs": [],
   "source": [
    "def svm_visualization(train_data, test_data, prediction):\n",
    "    x_train = train_data[:,0]\n",
    "    y_train = train_data[:,1]\n",
    "    z_train = train_data[:,2]\n",
    "    target_train = train_data[:,-1]\n",
    "    x_test = test_data[:,0]\n",
    "    y_test = test_data[:,1]\n",
    "    z_test = test_data[:,2]\n",
    "    target_test = test_data[:,-1]\n",
    "    \n",
    "    fig = plt.figure()\n",
    "    ax = fig.gca(projection='3d')    \n",
    "    ax.plot(x_train[target_train=='setosa'], y_train[target_train=='setosa'], z_train[target_train=='setosa'], c = 'red')\n",
    "    ax.plot(x_train[target_train=='versicolor'], y_train[target_train=='versicolor'], z_train[target_train=='versicolor'], c = 'blue')\n",
    "    ax.plot(x_train[target_train=='virginica'], y_train[target_train=='virginica'], z_train[target_train=='virginica'], c = 'green')\n",
    "    ax.plot(x_test[target_test=='setosa'], y_test[target_test=='setosa'], z_test[target_test=='setosa'],  c = 'magenta')\n",
    "    ax.plot(x_test[target_test=='versicolor'], y_test[target_test=='versicolor'], z_test[target_test=='versicolor'], c = 'cyan')\n",
    "    ax.plot(x_test[target_test=='virginica'], y_test[target_test=='virginica'], z_test[target_test=='virginica'], c = 'yellow')\n",
    "    plt.show()"
   ]
  },
  {
   "cell_type": "code",
   "execution_count": null,
   "metadata": {
    "id": "to7hILG1cUCW",
    "scrolled": false
   },
   "outputs": [],
   "source": [
    "train_data, test_data = data_preprocessing(iris)\n",
    "print(test_data[:, -1])"
   ]
  },
  {
   "cell_type": "code",
   "execution_count": null,
   "metadata": {
    "id": "M5LrH5KmYK9E",
    "scrolled": true
   },
   "outputs": [],
   "source": [
    "w = svm_fitting(train_data)"
   ]
  },
  {
   "cell_type": "code",
   "execution_count": null,
   "metadata": {
    "id": "ohAOt0KbYK9G",
    "scrolled": true
   },
   "outputs": [],
   "source": [
    "prediction = svm_prediction(w, test_data)\n",
    "print(prediction)"
   ]
  },
  {
   "cell_type": "code",
   "execution_count": null,
   "metadata": {
    "scrolled": true
   },
   "outputs": [],
   "source": [
    "svm_visualization(train_data, test_data, prediction)"
   ]
  },
  {
   "cell_type": "code",
   "execution_count": null,
   "metadata": {},
   "outputs": [],
   "source": []
  }
 ],
 "metadata": {
  "colab": {
   "collapsed_sections": [],
   "name": "Homework_2.ipynb",
   "provenance": []
  },
  "kernelspec": {
   "display_name": "Python 3",
   "language": "python",
   "name": "python3"
  },
  "language_info": {
   "codemirror_mode": {
    "name": "ipython",
    "version": 3
   },
   "file_extension": ".py",
   "mimetype": "text/x-python",
   "name": "python",
   "nbconvert_exporter": "python",
   "pygments_lexer": "ipython3",
   "version": "3.8.3"
  }
 },
 "nbformat": 4,
 "nbformat_minor": 1
}
